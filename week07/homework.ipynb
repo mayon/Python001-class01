{
 "metadata": {
  "language_info": {
   "codemirror_mode": {
    "name": "ipython",
    "version": 3
   },
   "file_extension": ".py",
   "mimetype": "text/x-python",
   "name": "python",
   "nbconvert_exporter": "python",
   "pygments_lexer": "ipython3",
   "version": "3.7.3-final"
  },
  "orig_nbformat": 2,
  "kernelspec": {
   "name": "python37364bitvenvgeekvenv6f8de76f43c54c0cb92d00d153bd82de",
   "display_name": "Python 3.7.3 64-bit ('venvGeek': venv)"
  }
 },
 "nbformat": 4,
 "nbformat_minor": 2,
 "cells": [
  {
   "cell_type": "code",
   "execution_count": 157,
   "metadata": {
    "tags": []
   },
   "outputs": [],
   "source": [
    "class Zoo(object):\n",
    "    def __init__(self, name):\n",
    "        self.name = name\n",
    "        self.animals = {}\n",
    "\n",
    "    def add_animal(self, animal):\n",
    "        aid = id(animal)\n",
    "        acn = animal.__class__.__name__\n",
    "\n",
    "        if aid in self.animals:\n",
    "            print(f'{acn}({aid}) already exists.')\n",
    "            return\n",
    "        self.animals[aid] = animal\n",
    "\n",
    "        if not hasattr(self, acn):\n",
    "            setattr(self, acn, [animal])\n",
    "        else:\n",
    "            self[acn].append(ainimal)\n",
    "        print(f'Add {acn}({aid})')"
   ]
  },
  {
   "cell_type": "code",
   "execution_count": 158,
   "metadata": {},
   "outputs": [],
   "source": [
    "from abc import ABCMeta, abstractmethod\n",
    "class Animale(metaclass=ABCMeta):\n",
    "    @abstractmethod\n",
    "    def __init__(self, species, shape, character):\n",
    "        self.species = species\n",
    "        self.shape = shape\n",
    "        self.character = character\n",
    "    @property\n",
    "    def is_beast(self):\n",
    "        if self.species == '食肉' and self.character == '凶猛' and (self.chape == '中' or self.chape == '大'):\n",
    "            return True\n",
    "        return False"
   ]
  },
  {
   "cell_type": "code",
   "execution_count": 164,
   "metadata": {
    "tags": []
   },
   "outputs": [],
   "source": [
    "class Cat(Animale):\n",
    "    voice = 'miao'\n",
    "    def __init__(self, name, species, shape, character):\n",
    "        super(Cat, self).__init__(species, shape, character)\n",
    "        self.name = name\n",
    "    @property\n",
    "    def is_pet(self):\n",
    "        return not self.is_beast"
   ]
  },
  {
   "cell_type": "code",
   "execution_count": 166,
   "metadata": {
    "tags": []
   },
   "outputs": [
    {
     "output_type": "stream",
     "name": "stdout",
     "text": "Cat : \"miao\"\ncat1 is pet ? True\ncat1 is beast ? False\nAdd Cat(140593149448320)\nzoo has cat? True. How many? 1\nCat(140593149448320) already exists.\n"
    }
   ],
   "source": [
    "if __name__ == '__main__':\n",
    "    z = Zoo('时间动物园')\n",
    "    cat1 = Cat('大花猫 1', '食肉', '小', '温顺')\n",
    "    print(f'Cat : \"{Cat.voice}\"')\n",
    "    print(f'cat1 is pet ? {cat1.is_pet}')\n",
    "    print(f'cat1 is beast ? {cat1.is_beast}')\n",
    "\n",
    "    z.add_animal(cat1)\n",
    "    have_cat = getattr(z, 'Cat')\n",
    "    print(f'zoo has cat? {bool(have_cat)}. How many? {len(have_cat)}')\n",
    "\n",
    "    z.add_animal(cat1)\n",
    "\n",
    "    # a = Animale('1','2','3')   # TypeError"
   ]
  },
  {
   "cell_type": "code",
   "execution_count": null,
   "metadata": {},
   "outputs": [],
   "source": []
  }
 ]
}