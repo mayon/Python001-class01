{
 "cells": [
  {
   "cell_type": "markdown",
   "metadata": {},
   "source": [
    "# Week 04\n",
    "\n",
    "1. SELECT * FROM data;\n",
    "\n",
    "2. SELECT * FROM data LIMIT(10);\n",
    " \n",
    "3. SELECT id FROM data;  //id 是 data 表的特定一列\n",
    " \n",
    "4. SELECT COUNT(id) FROM data;\n",
    " \n",
    "5. SELECT * FROM data WHERE id<1000 AND age>30;\n",
    " \n",
    "6. SELECT id,COUNT(DISTINCT order_id) FROM table1 GROUP BY id;\n",
    " \n",
    "7. SELECT * FROM table1 t1 INNER_JOIN table2 t2 ON t1.id = t2.id;\n",
    " \n",
    "8. SELECT * FROM table1 UNION SELECT * FROM table2;\n",
    " \n",
    "9. DELETE FROM table1 WHERE id=10;\n",
    " \n",
    "10. ALTER TABLE table1 DROP COLUMN column_name;"
   ]
  },
  {
   "cell_type": "code",
   "execution_count": 2,
   "metadata": {},
   "outputs": [
    {
     "output_type": "execute_result",
     "data": {
      "text/plain": "    id      name  sex  age\n0    1      Jone    1   20\n1    2  Sherlock    0   35\n2    3      Mark    1   40\n3    4      Kate    0   18\n4    5      Deny    1   20\n5    6    Floria    0   35\n6    7      Luck    1   40\n7    8       Goo    0   18\n8    9      Tony    1   30\n9   10      Zork    0   23\n10  11      Dodo    1   42\n11  12        Pi    0   28",
      "text/html": "<div>\n<style scoped>\n    .dataframe tbody tr th:only-of-type {\n        vertical-align: middle;\n    }\n\n    .dataframe tbody tr th {\n        vertical-align: top;\n    }\n\n    .dataframe thead th {\n        text-align: right;\n    }\n</style>\n<table border=\"1\" class=\"dataframe\">\n  <thead>\n    <tr style=\"text-align: right;\">\n      <th></th>\n      <th>id</th>\n      <th>name</th>\n      <th>sex</th>\n      <th>age</th>\n    </tr>\n  </thead>\n  <tbody>\n    <tr>\n      <th>0</th>\n      <td>1</td>\n      <td>Jone</td>\n      <td>1</td>\n      <td>20</td>\n    </tr>\n    <tr>\n      <th>1</th>\n      <td>2</td>\n      <td>Sherlock</td>\n      <td>0</td>\n      <td>35</td>\n    </tr>\n    <tr>\n      <th>2</th>\n      <td>3</td>\n      <td>Mark</td>\n      <td>1</td>\n      <td>40</td>\n    </tr>\n    <tr>\n      <th>3</th>\n      <td>4</td>\n      <td>Kate</td>\n      <td>0</td>\n      <td>18</td>\n    </tr>\n    <tr>\n      <th>4</th>\n      <td>5</td>\n      <td>Deny</td>\n      <td>1</td>\n      <td>20</td>\n    </tr>\n    <tr>\n      <th>5</th>\n      <td>6</td>\n      <td>Floria</td>\n      <td>0</td>\n      <td>35</td>\n    </tr>\n    <tr>\n      <th>6</th>\n      <td>7</td>\n      <td>Luck</td>\n      <td>1</td>\n      <td>40</td>\n    </tr>\n    <tr>\n      <th>7</th>\n      <td>8</td>\n      <td>Goo</td>\n      <td>0</td>\n      <td>18</td>\n    </tr>\n    <tr>\n      <th>8</th>\n      <td>9</td>\n      <td>Tony</td>\n      <td>1</td>\n      <td>30</td>\n    </tr>\n    <tr>\n      <th>9</th>\n      <td>10</td>\n      <td>Zork</td>\n      <td>0</td>\n      <td>23</td>\n    </tr>\n    <tr>\n      <th>10</th>\n      <td>11</td>\n      <td>Dodo</td>\n      <td>1</td>\n      <td>42</td>\n    </tr>\n    <tr>\n      <th>11</th>\n      <td>12</td>\n      <td>Pi</td>\n      <td>0</td>\n      <td>28</td>\n    </tr>\n  </tbody>\n</table>\n</div>"
     },
     "metadata": {},
     "execution_count": 2
    }
   ],
   "source": [
    "# 1. SELECT * FROM data\n",
    "import pandas as pd\n",
    "pd.read_excel(r'test.xlsx')\n",
    "pd.read_excel(r'test_sheet.xlsx', sheet_name = 0)\n",
    "pd.read_csv(r'test.csv', nrows=5, encoding='utf-8')\n",
    "pd.read_table(r'test.txt')\n",
    "\n",
    "import pymysql\n",
    "sql = 'SELECT * FROM GeekTest'\n",
    "dbInfo = {\n",
    "    'host': 'localhost',\n",
    "    'port' : 3306,\n",
    "    'user' : 'root',\n",
    "    'password' : 'root1234',\n",
    "    'db' : 'maoyan'\n",
    "}\n",
    "conn = pymysql.connect(\n",
    "    host = dbInfo['host'],\n",
    "    port = dbInfo['port'],\n",
    "    user = dbInfo['user'],\n",
    "    password = dbInfo['password'],\n",
    "    db = dbInfo['db'],\n",
    "    charset = 'utf8'\n",
    ")\n",
    "df = pd.read_sql(sql, conn)\n",
    "df"
   ]
  },
  {
   "cell_type": "code",
   "execution_count": 5,
   "metadata": {},
   "outputs": [
    {
     "output_type": "execute_result",
     "data": {
      "text/plain": "   id      name  sex  age\n0   1      Jone    1   20\n1   2  Sherlock    0   35\n2   3      Mark    1   40\n3   4      Kate    0   18\n4   5      Deny    1   20\n5   6    Floria    0   35\n6   7      Luck    1   40\n7   8       Goo    0   18\n8   9      Tony    1   30\n9  10      Zork    0   23",
      "text/html": "<div>\n<style scoped>\n    .dataframe tbody tr th:only-of-type {\n        vertical-align: middle;\n    }\n\n    .dataframe tbody tr th {\n        vertical-align: top;\n    }\n\n    .dataframe thead th {\n        text-align: right;\n    }\n</style>\n<table border=\"1\" class=\"dataframe\">\n  <thead>\n    <tr style=\"text-align: right;\">\n      <th></th>\n      <th>id</th>\n      <th>name</th>\n      <th>sex</th>\n      <th>age</th>\n    </tr>\n  </thead>\n  <tbody>\n    <tr>\n      <th>0</th>\n      <td>1</td>\n      <td>Jone</td>\n      <td>1</td>\n      <td>20</td>\n    </tr>\n    <tr>\n      <th>1</th>\n      <td>2</td>\n      <td>Sherlock</td>\n      <td>0</td>\n      <td>35</td>\n    </tr>\n    <tr>\n      <th>2</th>\n      <td>3</td>\n      <td>Mark</td>\n      <td>1</td>\n      <td>40</td>\n    </tr>\n    <tr>\n      <th>3</th>\n      <td>4</td>\n      <td>Kate</td>\n      <td>0</td>\n      <td>18</td>\n    </tr>\n    <tr>\n      <th>4</th>\n      <td>5</td>\n      <td>Deny</td>\n      <td>1</td>\n      <td>20</td>\n    </tr>\n    <tr>\n      <th>5</th>\n      <td>6</td>\n      <td>Floria</td>\n      <td>0</td>\n      <td>35</td>\n    </tr>\n    <tr>\n      <th>6</th>\n      <td>7</td>\n      <td>Luck</td>\n      <td>1</td>\n      <td>40</td>\n    </tr>\n    <tr>\n      <th>7</th>\n      <td>8</td>\n      <td>Goo</td>\n      <td>0</td>\n      <td>18</td>\n    </tr>\n    <tr>\n      <th>8</th>\n      <td>9</td>\n      <td>Tony</td>\n      <td>1</td>\n      <td>30</td>\n    </tr>\n    <tr>\n      <th>9</th>\n      <td>10</td>\n      <td>Zork</td>\n      <td>0</td>\n      <td>23</td>\n    </tr>\n  </tbody>\n</table>\n</div>"
     },
     "metadata": {},
     "execution_count": 5
    }
   ],
   "source": [
    "# 2. SELECT * FROM data LIMIT(10);\n",
    "df.head(10)"
   ]
  },
  {
   "cell_type": "code",
   "execution_count": 6,
   "metadata": {},
   "outputs": [
    {
     "output_type": "execute_result",
     "data": {
      "text/plain": "0      1\n1      2\n2      3\n3      4\n4      5\n5      6\n6      7\n7      8\n8      9\n9     10\n10    11\n11    12\nName: id, dtype: int64"
     },
     "metadata": {},
     "execution_count": 6
    }
   ],
   "source": [
    "# 3. SELECT id FROM data;\n",
    "df['id']"
   ]
  },
  {
   "cell_type": "code",
   "execution_count": 7,
   "metadata": {},
   "outputs": [
    {
     "output_type": "execute_result",
     "data": {
      "text/plain": "12"
     },
     "metadata": {},
     "execution_count": 7
    }
   ],
   "source": [
    "# 4. SELECT COUNT(id) FROM data;\n",
    "df['id'].count()"
   ]
  },
  {
   "cell_type": "code",
   "execution_count": 10,
   "metadata": {},
   "outputs": [
    {
     "output_type": "execute_result",
     "data": {
      "text/plain": "   id      name  sex  age\n1   2  Sherlock    0   35\n2   3      Mark    1   40",
      "text/html": "<div>\n<style scoped>\n    .dataframe tbody tr th:only-of-type {\n        vertical-align: middle;\n    }\n\n    .dataframe tbody tr th {\n        vertical-align: top;\n    }\n\n    .dataframe thead th {\n        text-align: right;\n    }\n</style>\n<table border=\"1\" class=\"dataframe\">\n  <thead>\n    <tr style=\"text-align: right;\">\n      <th></th>\n      <th>id</th>\n      <th>name</th>\n      <th>sex</th>\n      <th>age</th>\n    </tr>\n  </thead>\n  <tbody>\n    <tr>\n      <th>1</th>\n      <td>2</td>\n      <td>Sherlock</td>\n      <td>0</td>\n      <td>35</td>\n    </tr>\n    <tr>\n      <th>2</th>\n      <td>3</td>\n      <td>Mark</td>\n      <td>1</td>\n      <td>40</td>\n    </tr>\n  </tbody>\n</table>\n</div>"
     },
     "metadata": {},
     "execution_count": 10
    }
   ],
   "source": [
    "# 5. SELECT * FROM data WHERE id<1000 AND age>30;\n",
    "df[ df['id'] < 5][ df['age'] > 30 ]"
   ]
  },
  {
   "cell_type": "code",
   "execution_count": 34,
   "metadata": {},
   "outputs": [
    {
     "output_type": "execute_result",
     "data": {
      "text/plain": "    age\nid     \n1     1\n2     1\n3     1\n4     1\n9     1\n10    1\n11    1\n12    1",
      "text/html": "<div>\n<style scoped>\n    .dataframe tbody tr th:only-of-type {\n        vertical-align: middle;\n    }\n\n    .dataframe tbody tr th {\n        vertical-align: top;\n    }\n\n    .dataframe thead th {\n        text-align: right;\n    }\n</style>\n<table border=\"1\" class=\"dataframe\">\n  <thead>\n    <tr style=\"text-align: right;\">\n      <th></th>\n      <th>age</th>\n    </tr>\n    <tr>\n      <th>id</th>\n      <th></th>\n    </tr>\n  </thead>\n  <tbody>\n    <tr>\n      <th>1</th>\n      <td>1</td>\n    </tr>\n    <tr>\n      <th>2</th>\n      <td>1</td>\n    </tr>\n    <tr>\n      <th>3</th>\n      <td>1</td>\n    </tr>\n    <tr>\n      <th>4</th>\n      <td>1</td>\n    </tr>\n    <tr>\n      <th>9</th>\n      <td>1</td>\n    </tr>\n    <tr>\n      <th>10</th>\n      <td>1</td>\n    </tr>\n    <tr>\n      <th>11</th>\n      <td>1</td>\n    </tr>\n    <tr>\n      <th>12</th>\n      <td>1</td>\n    </tr>\n  </tbody>\n</table>\n</div>"
     },
     "metadata": {},
     "execution_count": 34
    }
   ],
   "source": [
    "# 6. SELECT id,COUNT(DISTINCT order_id) FROM table1 GROUP BY id;\n",
    "df.drop_duplicates('age')[[ 'id', 'age' ]].groupby('id').aggregate({ 'age': 'count' })"
   ]
  },
  {
   "cell_type": "code",
   "execution_count": 3,
   "metadata": {},
   "outputs": [
    {
     "output_type": "execute_result",
     "data": {
      "text/plain": "   id      name  sex  age         title         link content   file_tyle  \\\n0   1      Jone    1   20    test movie  http://test      喜剧  2020-12-12   \n1   2  Sherlock    0   35   test2 movie  http://test      喜剧  2020-12-12   \n2   3      Mark    1   40   test3 movie  http://test      喜剧  2020-12-12   \n3   4      Kate    0   18  test11 movie  http://test      喜剧  2020-12-12   \n\n               time  \n0   test movie info  \n1  test2 movie info  \n2  test3 movie info  \n3   test movie info  ",
      "text/html": "<div>\n<style scoped>\n    .dataframe tbody tr th:only-of-type {\n        vertical-align: middle;\n    }\n\n    .dataframe tbody tr th {\n        vertical-align: top;\n    }\n\n    .dataframe thead th {\n        text-align: right;\n    }\n</style>\n<table border=\"1\" class=\"dataframe\">\n  <thead>\n    <tr style=\"text-align: right;\">\n      <th></th>\n      <th>id</th>\n      <th>name</th>\n      <th>sex</th>\n      <th>age</th>\n      <th>title</th>\n      <th>link</th>\n      <th>content</th>\n      <th>file_tyle</th>\n      <th>time</th>\n    </tr>\n  </thead>\n  <tbody>\n    <tr>\n      <th>0</th>\n      <td>1</td>\n      <td>Jone</td>\n      <td>1</td>\n      <td>20</td>\n      <td>test movie</td>\n      <td>http://test</td>\n      <td>喜剧</td>\n      <td>2020-12-12</td>\n      <td>test movie info</td>\n    </tr>\n    <tr>\n      <th>1</th>\n      <td>2</td>\n      <td>Sherlock</td>\n      <td>0</td>\n      <td>35</td>\n      <td>test2 movie</td>\n      <td>http://test</td>\n      <td>喜剧</td>\n      <td>2020-12-12</td>\n      <td>test2 movie info</td>\n    </tr>\n    <tr>\n      <th>2</th>\n      <td>3</td>\n      <td>Mark</td>\n      <td>1</td>\n      <td>40</td>\n      <td>test3 movie</td>\n      <td>http://test</td>\n      <td>喜剧</td>\n      <td>2020-12-12</td>\n      <td>test3 movie info</td>\n    </tr>\n    <tr>\n      <th>3</th>\n      <td>4</td>\n      <td>Kate</td>\n      <td>0</td>\n      <td>18</td>\n      <td>test11 movie</td>\n      <td>http://test</td>\n      <td>喜剧</td>\n      <td>2020-12-12</td>\n      <td>test movie info</td>\n    </tr>\n  </tbody>\n</table>\n</div>"
     },
     "metadata": {},
     "execution_count": 3
    }
   ],
   "source": [
    "# 7. SELECT * FROM table1 t1 INNER_JOIN table2 t2 ON t1.id = t2.id;\n",
    "sql_movie = 'SELECT * FROM movie;'\n",
    "df_movie = pd.read_sql(sql_movie, conn)\n",
    "pd.merge(df, df_movie, how='inner', on='id')"
   ]
  },
  {
   "cell_type": "code",
   "execution_count": 6,
   "metadata": {},
   "outputs": [
    {
     "output_type": "execute_result",
     "data": {
      "text/plain": "    id      name  sex   age         title         link content   file_tyle  \\\n0    1      Jone  1.0  20.0           NaN          NaN     NaN         NaN   \n1    2  Sherlock  0.0  35.0           NaN          NaN     NaN         NaN   \n2    3      Mark  1.0  40.0           NaN          NaN     NaN         NaN   \n3    4      Kate  0.0  18.0           NaN          NaN     NaN         NaN   \n4    5      Deny  1.0  20.0           NaN          NaN     NaN         NaN   \n5    6    Floria  0.0  35.0           NaN          NaN     NaN         NaN   \n6    7      Luck  1.0  40.0           NaN          NaN     NaN         NaN   \n7    8       Goo  0.0  18.0           NaN          NaN     NaN         NaN   \n8    9      Tony  1.0  30.0           NaN          NaN     NaN         NaN   \n9   10      Zork  0.0  23.0           NaN          NaN     NaN         NaN   \n10  11      Dodo  1.0  42.0           NaN          NaN     NaN         NaN   \n11  12        Pi  0.0  28.0           NaN          NaN     NaN         NaN   \n0    1       NaN  NaN   NaN    test movie  http://test      喜剧  2020-12-12   \n1    2       NaN  NaN   NaN   test2 movie  http://test      喜剧  2020-12-12   \n2    3       NaN  NaN   NaN   test3 movie  http://test      喜剧  2020-12-12   \n3    4       NaN  NaN   NaN  test11 movie  http://test      喜剧  2020-12-12   \n\n                time  \n0                NaN  \n1                NaN  \n2                NaN  \n3                NaN  \n4                NaN  \n5                NaN  \n6                NaN  \n7                NaN  \n8                NaN  \n9                NaN  \n10               NaN  \n11               NaN  \n0    test movie info  \n1   test2 movie info  \n2   test3 movie info  \n3    test movie info  ",
      "text/html": "<div>\n<style scoped>\n    .dataframe tbody tr th:only-of-type {\n        vertical-align: middle;\n    }\n\n    .dataframe tbody tr th {\n        vertical-align: top;\n    }\n\n    .dataframe thead th {\n        text-align: right;\n    }\n</style>\n<table border=\"1\" class=\"dataframe\">\n  <thead>\n    <tr style=\"text-align: right;\">\n      <th></th>\n      <th>id</th>\n      <th>name</th>\n      <th>sex</th>\n      <th>age</th>\n      <th>title</th>\n      <th>link</th>\n      <th>content</th>\n      <th>file_tyle</th>\n      <th>time</th>\n    </tr>\n  </thead>\n  <tbody>\n    <tr>\n      <th>0</th>\n      <td>1</td>\n      <td>Jone</td>\n      <td>1.0</td>\n      <td>20.0</td>\n      <td>NaN</td>\n      <td>NaN</td>\n      <td>NaN</td>\n      <td>NaN</td>\n      <td>NaN</td>\n    </tr>\n    <tr>\n      <th>1</th>\n      <td>2</td>\n      <td>Sherlock</td>\n      <td>0.0</td>\n      <td>35.0</td>\n      <td>NaN</td>\n      <td>NaN</td>\n      <td>NaN</td>\n      <td>NaN</td>\n      <td>NaN</td>\n    </tr>\n    <tr>\n      <th>2</th>\n      <td>3</td>\n      <td>Mark</td>\n      <td>1.0</td>\n      <td>40.0</td>\n      <td>NaN</td>\n      <td>NaN</td>\n      <td>NaN</td>\n      <td>NaN</td>\n      <td>NaN</td>\n    </tr>\n    <tr>\n      <th>3</th>\n      <td>4</td>\n      <td>Kate</td>\n      <td>0.0</td>\n      <td>18.0</td>\n      <td>NaN</td>\n      <td>NaN</td>\n      <td>NaN</td>\n      <td>NaN</td>\n      <td>NaN</td>\n    </tr>\n    <tr>\n      <th>4</th>\n      <td>5</td>\n      <td>Deny</td>\n      <td>1.0</td>\n      <td>20.0</td>\n      <td>NaN</td>\n      <td>NaN</td>\n      <td>NaN</td>\n      <td>NaN</td>\n      <td>NaN</td>\n    </tr>\n    <tr>\n      <th>5</th>\n      <td>6</td>\n      <td>Floria</td>\n      <td>0.0</td>\n      <td>35.0</td>\n      <td>NaN</td>\n      <td>NaN</td>\n      <td>NaN</td>\n      <td>NaN</td>\n      <td>NaN</td>\n    </tr>\n    <tr>\n      <th>6</th>\n      <td>7</td>\n      <td>Luck</td>\n      <td>1.0</td>\n      <td>40.0</td>\n      <td>NaN</td>\n      <td>NaN</td>\n      <td>NaN</td>\n      <td>NaN</td>\n      <td>NaN</td>\n    </tr>\n    <tr>\n      <th>7</th>\n      <td>8</td>\n      <td>Goo</td>\n      <td>0.0</td>\n      <td>18.0</td>\n      <td>NaN</td>\n      <td>NaN</td>\n      <td>NaN</td>\n      <td>NaN</td>\n      <td>NaN</td>\n    </tr>\n    <tr>\n      <th>8</th>\n      <td>9</td>\n      <td>Tony</td>\n      <td>1.0</td>\n      <td>30.0</td>\n      <td>NaN</td>\n      <td>NaN</td>\n      <td>NaN</td>\n      <td>NaN</td>\n      <td>NaN</td>\n    </tr>\n    <tr>\n      <th>9</th>\n      <td>10</td>\n      <td>Zork</td>\n      <td>0.0</td>\n      <td>23.0</td>\n      <td>NaN</td>\n      <td>NaN</td>\n      <td>NaN</td>\n      <td>NaN</td>\n      <td>NaN</td>\n    </tr>\n    <tr>\n      <th>10</th>\n      <td>11</td>\n      <td>Dodo</td>\n      <td>1.0</td>\n      <td>42.0</td>\n      <td>NaN</td>\n      <td>NaN</td>\n      <td>NaN</td>\n      <td>NaN</td>\n      <td>NaN</td>\n    </tr>\n    <tr>\n      <th>11</th>\n      <td>12</td>\n      <td>Pi</td>\n      <td>0.0</td>\n      <td>28.0</td>\n      <td>NaN</td>\n      <td>NaN</td>\n      <td>NaN</td>\n      <td>NaN</td>\n      <td>NaN</td>\n    </tr>\n    <tr>\n      <th>0</th>\n      <td>1</td>\n      <td>NaN</td>\n      <td>NaN</td>\n      <td>NaN</td>\n      <td>test movie</td>\n      <td>http://test</td>\n      <td>喜剧</td>\n      <td>2020-12-12</td>\n      <td>test movie info</td>\n    </tr>\n    <tr>\n      <th>1</th>\n      <td>2</td>\n      <td>NaN</td>\n      <td>NaN</td>\n      <td>NaN</td>\n      <td>test2 movie</td>\n      <td>http://test</td>\n      <td>喜剧</td>\n      <td>2020-12-12</td>\n      <td>test2 movie info</td>\n    </tr>\n    <tr>\n      <th>2</th>\n      <td>3</td>\n      <td>NaN</td>\n      <td>NaN</td>\n      <td>NaN</td>\n      <td>test3 movie</td>\n      <td>http://test</td>\n      <td>喜剧</td>\n      <td>2020-12-12</td>\n      <td>test3 movie info</td>\n    </tr>\n    <tr>\n      <th>3</th>\n      <td>4</td>\n      <td>NaN</td>\n      <td>NaN</td>\n      <td>NaN</td>\n      <td>test11 movie</td>\n      <td>http://test</td>\n      <td>喜剧</td>\n      <td>2020-12-12</td>\n      <td>test movie info</td>\n    </tr>\n  </tbody>\n</table>\n</div>"
     },
     "metadata": {},
     "execution_count": 6
    }
   ],
   "source": [
    "# 8. SELECT * FROM table1 UNION SELECT * FROM table2;\n",
    "pd.concat([ df, df_movie ], join='outer').drop_duplicates()"
   ]
  },
  {
   "cell_type": "code",
   "execution_count": 32,
   "metadata": {},
   "outputs": [
    {
     "output_type": "execute_result",
     "data": {
      "text/plain": "    id      name  sex  age\n0    1      Jone    1   20\n1    2  Sherlock    0   35\n2    3      Mark    1   40\n3    4      Kate    0   18\n4    5      Deny    1   20\n5    6    Floria    0   35\n6    7      Luck    1   40\n7    8       Goo    0   18\n8    9      Tony    1   30\n10  11      Dodo    1   42\n11  12        Pi    0   28",
      "text/html": "<div>\n<style scoped>\n    .dataframe tbody tr th:only-of-type {\n        vertical-align: middle;\n    }\n\n    .dataframe tbody tr th {\n        vertical-align: top;\n    }\n\n    .dataframe thead th {\n        text-align: right;\n    }\n</style>\n<table border=\"1\" class=\"dataframe\">\n  <thead>\n    <tr style=\"text-align: right;\">\n      <th></th>\n      <th>id</th>\n      <th>name</th>\n      <th>sex</th>\n      <th>age</th>\n    </tr>\n  </thead>\n  <tbody>\n    <tr>\n      <th>0</th>\n      <td>1</td>\n      <td>Jone</td>\n      <td>1</td>\n      <td>20</td>\n    </tr>\n    <tr>\n      <th>1</th>\n      <td>2</td>\n      <td>Sherlock</td>\n      <td>0</td>\n      <td>35</td>\n    </tr>\n    <tr>\n      <th>2</th>\n      <td>3</td>\n      <td>Mark</td>\n      <td>1</td>\n      <td>40</td>\n    </tr>\n    <tr>\n      <th>3</th>\n      <td>4</td>\n      <td>Kate</td>\n      <td>0</td>\n      <td>18</td>\n    </tr>\n    <tr>\n      <th>4</th>\n      <td>5</td>\n      <td>Deny</td>\n      <td>1</td>\n      <td>20</td>\n    </tr>\n    <tr>\n      <th>5</th>\n      <td>6</td>\n      <td>Floria</td>\n      <td>0</td>\n      <td>35</td>\n    </tr>\n    <tr>\n      <th>6</th>\n      <td>7</td>\n      <td>Luck</td>\n      <td>1</td>\n      <td>40</td>\n    </tr>\n    <tr>\n      <th>7</th>\n      <td>8</td>\n      <td>Goo</td>\n      <td>0</td>\n      <td>18</td>\n    </tr>\n    <tr>\n      <th>8</th>\n      <td>9</td>\n      <td>Tony</td>\n      <td>1</td>\n      <td>30</td>\n    </tr>\n    <tr>\n      <th>10</th>\n      <td>11</td>\n      <td>Dodo</td>\n      <td>1</td>\n      <td>42</td>\n    </tr>\n    <tr>\n      <th>11</th>\n      <td>12</td>\n      <td>Pi</td>\n      <td>0</td>\n      <td>28</td>\n    </tr>\n  </tbody>\n</table>\n</div>"
     },
     "metadata": {},
     "execution_count": 32
    }
   ],
   "source": [
    "# 9. DELETE FROM table1 WHERE id=10;\n",
    "df[ df['id'] != 10 ]\n",
    "# or\n",
    "df.drop(df[ df['id'] == 10 ].index)"
   ]
  },
  {
   "cell_type": "code",
   "execution_count": 28,
   "metadata": {},
   "outputs": [
    {
     "output_type": "execute_result",
     "data": {
      "text/plain": "    id      name  age\n0    1      Jone   20\n1    2  Sherlock   35\n2    3      Mark   40\n3    4      Kate   18\n4    5      Deny   20\n5    6    Floria   35\n6    7      Luck   40\n7    8       Goo   18\n8    9      Tony   30\n9   10      Zork   23\n10  11      Dodo   42\n11  12        Pi   28",
      "text/html": "<div>\n<style scoped>\n    .dataframe tbody tr th:only-of-type {\n        vertical-align: middle;\n    }\n\n    .dataframe tbody tr th {\n        vertical-align: top;\n    }\n\n    .dataframe thead th {\n        text-align: right;\n    }\n</style>\n<table border=\"1\" class=\"dataframe\">\n  <thead>\n    <tr style=\"text-align: right;\">\n      <th></th>\n      <th>id</th>\n      <th>name</th>\n      <th>age</th>\n    </tr>\n  </thead>\n  <tbody>\n    <tr>\n      <th>0</th>\n      <td>1</td>\n      <td>Jone</td>\n      <td>20</td>\n    </tr>\n    <tr>\n      <th>1</th>\n      <td>2</td>\n      <td>Sherlock</td>\n      <td>35</td>\n    </tr>\n    <tr>\n      <th>2</th>\n      <td>3</td>\n      <td>Mark</td>\n      <td>40</td>\n    </tr>\n    <tr>\n      <th>3</th>\n      <td>4</td>\n      <td>Kate</td>\n      <td>18</td>\n    </tr>\n    <tr>\n      <th>4</th>\n      <td>5</td>\n      <td>Deny</td>\n      <td>20</td>\n    </tr>\n    <tr>\n      <th>5</th>\n      <td>6</td>\n      <td>Floria</td>\n      <td>35</td>\n    </tr>\n    <tr>\n      <th>6</th>\n      <td>7</td>\n      <td>Luck</td>\n      <td>40</td>\n    </tr>\n    <tr>\n      <th>7</th>\n      <td>8</td>\n      <td>Goo</td>\n      <td>18</td>\n    </tr>\n    <tr>\n      <th>8</th>\n      <td>9</td>\n      <td>Tony</td>\n      <td>30</td>\n    </tr>\n    <tr>\n      <th>9</th>\n      <td>10</td>\n      <td>Zork</td>\n      <td>23</td>\n    </tr>\n    <tr>\n      <th>10</th>\n      <td>11</td>\n      <td>Dodo</td>\n      <td>42</td>\n    </tr>\n    <tr>\n      <th>11</th>\n      <td>12</td>\n      <td>Pi</td>\n      <td>28</td>\n    </tr>\n  </tbody>\n</table>\n</div>"
     },
     "metadata": {},
     "execution_count": 28
    }
   ],
   "source": [
    "# 10. ALTER TABLE table1 DROP COLUMN column_name;\n",
    "df.drop('sex', axis=1)"
   ]
  }
 ],
 "metadata": {
  "language_info": {
   "codemirror_mode": {
    "name": "ipython",
    "version": 3
   },
   "file_extension": ".py",
   "mimetype": "text/x-python",
   "name": "python",
   "nbconvert_exporter": "python",
   "pygments_lexer": "ipython3",
   "version": "3.7.3-final"
  },
  "orig_nbformat": 2,
  "kernelspec": {
   "name": "python37364bitvenvgeekvenv6f8de76f43c54c0cb92d00d153bd82de",
   "display_name": "Python 3.7.3 64-bit ('venvGeek': venv)"
  }
 },
 "nbformat": 4,
 "nbformat_minor": 2
}