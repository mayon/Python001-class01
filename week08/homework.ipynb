{
 "metadata": {
  "language_info": {
   "codemirror_mode": {
    "name": "ipython",
    "version": 3
   },
   "file_extension": ".py",
   "mimetype": "text/x-python",
   "name": "python",
   "nbconvert_exporter": "python",
   "pygments_lexer": "ipython3",
   "version": "3.7.3-final"
  },
  "orig_nbformat": 2,
  "kernelspec": {
   "name": "python37364bitvenvgeekvenv6f8de76f43c54c0cb92d00d153bd82de",
   "display_name": "Python 3.7.3 64-bit ('venvGeek': venv)"
  }
 },
 "nbformat": 4,
 "nbformat_minor": 2,
 "cells": [
  {
   "cell_type": "code",
   "execution_count": 8,
   "metadata": {},
   "outputs": [],
   "source": [
    "# 作业一：\n",
    "# 区分以下类型哪些是容器序列哪些是扁平序列，哪些是可变序列哪些是不可变序列：list、tuple、str、dict、collections.deque。\n",
    "\n",
    "\"\"\"\n",
    "容器序列：list, tuple, dict, collections.deque\n",
    "扁平序列：str\n",
    "\n",
    "可变序列：list，dict，collections.deque\n",
    "不可变序列：tuple, str\n",
    "\"\"\""
   ]
  },
  {
   "cell_type": "code",
   "execution_count": 45,
   "metadata": {
    "tags": []
   },
   "outputs": [],
   "source": [
    "# 作业二：\n",
    "# 自定义一个 python 函数，实现 map(func, *iterables) 函数的功能。\n",
    "def mmap(func, *iterables):\n",
    "    if not hasattr( func, '__call__'):\n",
    "        raise TypeError(f'{func}  object is not callable')\n",
    "    \n",
    "    func_argcount = func.__code__.co_argcount\n",
    "    iterables_len = len(iterables)\n",
    "\n",
    "    if iterables_len == 0:\n",
    "        raise TypeError('mmap() must have at least two arguments')\n",
    "    elif func_argcount != iterables_len:\n",
    "        raise TypeError(f'{func.__name__}() takes {func_argcount} positional argument but {iterables_len} were given')\n",
    "    else:\n",
    "        for it in iterables:\n",
    "            if not hasattr( it, '__iter__' ):\n",
    "                raise TypeError(f'{it} object is not iterable')\n",
    "            else:\n",
    "                it = iter(it)\n",
    "\n",
    "    args = list(zip(*iterables))\n",
    "    for arg in args:\n",
    "        yield func(*arg)"
   ]
  },
  {
   "cell_type": "code",
   "execution_count": 46,
   "metadata": {
    "tags": []
   },
   "outputs": [
    {
     "output_type": "stream",
     "name": "stdout",
     "text": "[2, 4, 6]\n[21, 42, 63]\n[221, 442]\n"
    }
   ],
   "source": [
    "# Test Cases:\n",
    "def test1(val):\n",
    "    return val * 2\n",
    "\n",
    "def test2(val1, val2):\n",
    "    return val1 + val2\n",
    "\n",
    "def test3(val1, val2, val3):\n",
    "    return val1 + val2 + val3\n",
    "\n",
    "myiter1 = mmap(test1, [1,2,3])\n",
    "print(list(myiter1))\n",
    "\n",
    "myiter2 = mmap(test2, [1,2,3], [20,40,60,8])\n",
    "print(list(myiter2))\n",
    "\n",
    "myiter3 = mmap(test3, [1,2,3], [20,40,60,8], [200,400])\n",
    "print(list(myiter3))\n"
   ]
  },
  {
   "cell_type": "code",
   "execution_count": 63,
   "metadata": {
    "tags": []
   },
   "outputs": [
    {
     "output_type": "stream",
     "name": "stdout",
     "text": "2.003469705581665\n"
    }
   ],
   "source": [
    "# 作业三：\n",
    "# 实现一个 @timer 装饰器，记录函数的运行时间，注意需要考虑函数可能会接收不定长参数。\n",
    "\n",
    "import time\n",
    "\n",
    "def timer(func):\n",
    "    def decorator(*args, **kwargs):\n",
    "        start_time = time.time()\n",
    "        res = func(*args, **kwargs)\n",
    "        print(time.time() - start_time)\n",
    "        return res\n",
    "    return decorator\n",
    "\n",
    "@timer\n",
    "def test():\n",
    "    time.sleep(2)\n",
    "\n",
    "test()"
   ]
  }
 ]
}